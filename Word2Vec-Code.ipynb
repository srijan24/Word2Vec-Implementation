{
 "cells": [
  {
   "cell_type": "code",
   "execution_count": 290,
   "id": "b80f4875",
   "metadata": {},
   "outputs": [],
   "source": [
    "import numpy as np\n",
    "import matplotlib.pyplot as plt\n",
    "import pandas as pd"
   ]
  },
  {
   "cell_type": "code",
   "execution_count": 291,
   "id": "44847e47",
   "metadata": {},
   "outputs": [],
   "source": [
    "import tensorflow as tf\n",
    "from tensorflow import keras"
   ]
  },
  {
   "cell_type": "code",
   "execution_count": 292,
   "id": "d7a2d467",
   "metadata": {},
   "outputs": [],
   "source": [
    "from sklearn.model_selection import train_test_split"
   ]
  },
  {
   "cell_type": "code",
   "execution_count": 293,
   "id": "10f58cb8",
   "metadata": {},
   "outputs": [],
   "source": [
    "from keras.models import Sequential, Model\n",
    "from keras.layers import Dense, Conv2D, Flatten"
   ]
  },
  {
   "cell_type": "code",
   "execution_count": 294,
   "id": "c444bb07",
   "metadata": {},
   "outputs": [],
   "source": [
    "quests = pd.read_csv('train.csv')"
   ]
  },
  {
   "cell_type": "code",
   "execution_count": 295,
   "id": "6718accf",
   "metadata": {},
   "outputs": [
    {
     "data": {
      "text/plain": [
       "0         0\n",
       "1         0\n",
       "2         0\n",
       "3         0\n",
       "4         0\n",
       "         ..\n",
       "404285    0\n",
       "404286    1\n",
       "404287    0\n",
       "404288    0\n",
       "404289    0\n",
       "Name: is_duplicate, Length: 404290, dtype: int64"
      ]
     },
     "execution_count": 295,
     "metadata": {},
     "output_type": "execute_result"
    }
   ],
   "source": [
    "X = quests[[x for x in quests.columns if x != \"is_duplicate\"]]\n",
    "y = quests[\"is_duplicate\"]\n",
    "\n",
    "y"
   ]
  },
  {
   "cell_type": "code",
   "execution_count": 296,
   "id": "1597813d",
   "metadata": {},
   "outputs": [
    {
     "data": {
      "text/html": [
       "<div>\n",
       "<style scoped>\n",
       "    .dataframe tbody tr th:only-of-type {\n",
       "        vertical-align: middle;\n",
       "    }\n",
       "\n",
       "    .dataframe tbody tr th {\n",
       "        vertical-align: top;\n",
       "    }\n",
       "\n",
       "    .dataframe thead th {\n",
       "        text-align: right;\n",
       "    }\n",
       "</style>\n",
       "<table border=\"1\" class=\"dataframe\">\n",
       "  <thead>\n",
       "    <tr style=\"text-align: right;\">\n",
       "      <th></th>\n",
       "      <th>id</th>\n",
       "      <th>qid1</th>\n",
       "      <th>qid2</th>\n",
       "      <th>question1</th>\n",
       "      <th>question2</th>\n",
       "      <th>is_duplicate</th>\n",
       "    </tr>\n",
       "  </thead>\n",
       "  <tbody>\n",
       "    <tr>\n",
       "      <th>0</th>\n",
       "      <td>0</td>\n",
       "      <td>1</td>\n",
       "      <td>2</td>\n",
       "      <td>What is the step by step guide to invest in sh...</td>\n",
       "      <td>What is the step by step guide to invest in sh...</td>\n",
       "      <td>0</td>\n",
       "    </tr>\n",
       "    <tr>\n",
       "      <th>1</th>\n",
       "      <td>1</td>\n",
       "      <td>3</td>\n",
       "      <td>4</td>\n",
       "      <td>What is the story of Kohinoor (Koh-i-Noor) Dia...</td>\n",
       "      <td>What would happen if the Indian government sto...</td>\n",
       "      <td>0</td>\n",
       "    </tr>\n",
       "    <tr>\n",
       "      <th>2</th>\n",
       "      <td>2</td>\n",
       "      <td>5</td>\n",
       "      <td>6</td>\n",
       "      <td>How can I increase the speed of my internet co...</td>\n",
       "      <td>How can Internet speed be increased by hacking...</td>\n",
       "      <td>0</td>\n",
       "    </tr>\n",
       "    <tr>\n",
       "      <th>3</th>\n",
       "      <td>3</td>\n",
       "      <td>7</td>\n",
       "      <td>8</td>\n",
       "      <td>Why am I mentally very lonely? How can I solve...</td>\n",
       "      <td>Find the remainder when [math]23^{24}[/math] i...</td>\n",
       "      <td>0</td>\n",
       "    </tr>\n",
       "    <tr>\n",
       "      <th>4</th>\n",
       "      <td>4</td>\n",
       "      <td>9</td>\n",
       "      <td>10</td>\n",
       "      <td>Which one dissolve in water quikly sugar, salt...</td>\n",
       "      <td>Which fish would survive in salt water?</td>\n",
       "      <td>0</td>\n",
       "    </tr>\n",
       "  </tbody>\n",
       "</table>\n",
       "</div>"
      ],
      "text/plain": [
       "   id  qid1  qid2                                          question1  \\\n",
       "0   0     1     2  What is the step by step guide to invest in sh...   \n",
       "1   1     3     4  What is the story of Kohinoor (Koh-i-Noor) Dia...   \n",
       "2   2     5     6  How can I increase the speed of my internet co...   \n",
       "3   3     7     8  Why am I mentally very lonely? How can I solve...   \n",
       "4   4     9    10  Which one dissolve in water quikly sugar, salt...   \n",
       "\n",
       "                                           question2  is_duplicate  \n",
       "0  What is the step by step guide to invest in sh...             0  \n",
       "1  What would happen if the Indian government sto...             0  \n",
       "2  How can Internet speed be increased by hacking...             0  \n",
       "3  Find the remainder when [math]23^{24}[/math] i...             0  \n",
       "4            Which fish would survive in salt water?             0  "
      ]
     },
     "execution_count": 296,
     "metadata": {},
     "output_type": "execute_result"
    }
   ],
   "source": [
    "quests.head(5)"
   ]
  },
  {
   "cell_type": "markdown",
   "id": "0573783e",
   "metadata": {},
   "source": [
    "# Word2Vec implementation"
   ]
  },
  {
   "cell_type": "code",
   "execution_count": 297,
   "id": "46ba6e88",
   "metadata": {},
   "outputs": [],
   "source": [
    "WINDOW_SIZE = 4 # of the sentences in context\n",
    "EMBEDDING_DIM = 10"
   ]
  },
  {
   "cell_type": "code",
   "execution_count": 298,
   "id": "15ec8cf2",
   "metadata": {},
   "outputs": [],
   "source": [
    "corpus_raw = \"\"\"A king is a man who rules a country, because of inheritance. A king usually comes to power when the previous monarch dies, who is usually a family member of his. Sometimes a person may become king due to the previous monarch's abdication, for example George VI. For most of history, most countries were ruled in this way, especially in Europe. Some countries, such as France, are no longer monarchies. Some, such as the United Kingdom, still have a royal family. In some countries, people chose a new king from other people to decide from.\n",
    "\n",
    "The wife of a king is called a queen. A woman who becomes a ruler because of inheritance is also called a queen.\n",
    "\n",
    "If a country has a king or a queen, that means it is a monarchy. A country which a king or queen rules is called a kingdom.\n",
    "\n",
    "In the Muslim world a King would be known as Malik or Sultan. \"\"\""
   ]
  },
  {
   "cell_type": "code",
   "execution_count": 299,
   "id": "3780d6dc",
   "metadata": {},
   "outputs": [
    {
     "data": {
      "text/plain": [
       "\"A king is a man who rules a country, because of inheritance. A king usually comes to power when the previous monarch dies, who is usually a family member of his. Sometimes a person may become king due to the previous monarch's abdication, for example George VI. For most of history, most countries were ruled in this way, especially in Europe. Some countries, such as France, are no longer monarchies. Some, such as the United Kingdom, still have a royal family. In some countries, people chose a new king from other people to decide from.\\n\\nThe wife of a king is called a queen. A woman who becomes a ruler because of inheritance is also called a queen.\\n\\nIf a country has a king or a queen, that means it is a monarchy. A country which a king or queen rules is called a kingdom.\\n\\nIn the Muslim world a King would be known as Malik or Sultan. \""
      ]
     },
     "execution_count": 299,
     "metadata": {},
     "output_type": "execute_result"
    }
   ],
   "source": [
    "corpus_raw"
   ]
  },
  {
   "cell_type": "code",
   "execution_count": 300,
   "id": "bc0e7928",
   "metadata": {},
   "outputs": [],
   "source": [
    "corpus_raw = corpus_raw.replace(\"\\n\",\" \")"
   ]
  },
  {
   "cell_type": "code",
   "execution_count": 301,
   "id": "957a5e65",
   "metadata": {},
   "outputs": [
    {
     "data": {
      "text/plain": [
       "\"A king is a man who rules a country, because of inheritance. A king usually comes to power when the previous monarch dies, who is usually a family member of his. Sometimes a person may become king due to the previous monarch's abdication, for example George VI. For most of history, most countries were ruled in this way, especially in Europe. Some countries, such as France, are no longer monarchies. Some, such as the United Kingdom, still have a royal family. In some countries, people chose a new king from other people to decide from.  The wife of a king is called a queen. A woman who becomes a ruler because of inheritance is also called a queen.  If a country has a king or a queen, that means it is a monarchy. A country which a king or queen rules is called a kingdom.  In the Muslim world a King would be known as Malik or Sultan. \""
      ]
     },
     "execution_count": 301,
     "metadata": {},
     "output_type": "execute_result"
    }
   ],
   "source": [
    "corpus_raw"
   ]
  },
  {
   "cell_type": "code",
   "execution_count": 302,
   "id": "feb4e453",
   "metadata": {},
   "outputs": [],
   "source": [
    "corpus_low = corpus_raw.lower()"
   ]
  },
  {
   "cell_type": "code",
   "execution_count": 303,
   "id": "b9da23f7",
   "metadata": {},
   "outputs": [],
   "source": [
    "def clean_word(w, removeables = \"'.,!?/*[]{}\"):\n",
    "    temp = w\n",
    "    for punct in removeables:\n",
    "        temp = temp.replace(punct,'')\n",
    "    return temp"
   ]
  },
  {
   "cell_type": "code",
   "execution_count": 304,
   "id": "a6612f45",
   "metadata": {},
   "outputs": [],
   "source": [
    "words = set()\n",
    "removeables = '.,!?/*[]{}'\n",
    "for w in corpus_low.split(' '):\n",
    "    if w not in '.,!?/*[]{}':\n",
    "        w = clean_word(w)\n",
    "        words.add(w.strip(removeables))"
   ]
  },
  {
   "cell_type": "markdown",
   "id": "79822d80",
   "metadata": {},
   "source": [
    "## Word indexing get"
   ]
  },
  {
   "cell_type": "code",
   "execution_count": 305,
   "id": "db65f205",
   "metadata": {},
   "outputs": [],
   "source": [
    "vocab_size = len(words)\n",
    "word2int, int2word = {}, {}"
   ]
  },
  {
   "cell_type": "code",
   "execution_count": 306,
   "id": "40657e60",
   "metadata": {},
   "outputs": [],
   "source": [
    "for i,w in enumerate(words):\n",
    "    word2int[w] = i\n",
    "    int2word[i] = w"
   ]
  },
  {
   "cell_type": "code",
   "execution_count": 307,
   "id": "19567d4d",
   "metadata": {},
   "outputs": [
    {
     "data": {
      "text/plain": [
       "{'it': 0,\n",
       " 'way': 1,\n",
       " 'decide': 2,\n",
       " 'sometimes': 3,\n",
       " 'especially': 4,\n",
       " 'royal': 5,\n",
       " 'inheritance': 6,\n",
       " 'or': 7,\n",
       " 'ruler': 8,\n",
       " 'this': 9,\n",
       " 'no': 10,\n",
       " 'still': 11,\n",
       " 'of': 12,\n",
       " 'monarchs': 13,\n",
       " 'queen': 14,\n",
       " 'europe': 15,\n",
       " 'from': 16,\n",
       " 'be': 17,\n",
       " 'monarchies': 18,\n",
       " 'countries': 19,\n",
       " 'monarchy': 20,\n",
       " 'ruled': 21,\n",
       " 'have': 22,\n",
       " 'family': 23,\n",
       " 'power': 24,\n",
       " 'that': 25,\n",
       " 'malik': 26,\n",
       " 'which': 27,\n",
       " 'usually': 28,\n",
       " 'other': 29,\n",
       " 'also': 30,\n",
       " 'example': 31,\n",
       " 'monarch': 32,\n",
       " 'george': 33,\n",
       " 'sultan': 34,\n",
       " 'comes': 35,\n",
       " 'kingdom': 36,\n",
       " 'france': 37,\n",
       " 'longer': 38,\n",
       " 'may': 39,\n",
       " 'country': 40,\n",
       " 'vi': 41,\n",
       " 'people': 42,\n",
       " 'a': 43,\n",
       " 'member': 44,\n",
       " 'becomes': 45,\n",
       " 'history': 46,\n",
       " 'to': 47,\n",
       " 'world': 48,\n",
       " 'means': 49,\n",
       " 'in': 50,\n",
       " 'due': 51,\n",
       " 'person': 52,\n",
       " 'dies': 53,\n",
       " 'were': 54,\n",
       " 'known': 55,\n",
       " 'his': 56,\n",
       " 'wife': 57,\n",
       " 'has': 58,\n",
       " 'such': 59,\n",
       " 'united': 60,\n",
       " 'who': 61,\n",
       " 'man': 62,\n",
       " 'previous': 63,\n",
       " 'muslim': 64,\n",
       " 'as': 65,\n",
       " 'chose': 66,\n",
       " 'are': 67,\n",
       " 'would': 68,\n",
       " 'woman': 69,\n",
       " 'abdication': 70,\n",
       " 'called': 71,\n",
       " 'because': 72,\n",
       " 'some': 73,\n",
       " 'the': 74,\n",
       " 'new': 75,\n",
       " 'if': 76,\n",
       " 'for': 77,\n",
       " 'when': 78,\n",
       " 'king': 79,\n",
       " 'rules': 80,\n",
       " 'become': 81,\n",
       " 'most': 82,\n",
       " 'is': 83}"
      ]
     },
     "execution_count": 307,
     "metadata": {},
     "output_type": "execute_result"
    }
   ],
   "source": [
    "word2int"
   ]
  },
  {
   "cell_type": "markdown",
   "id": "de50afc8",
   "metadata": {},
   "source": [
    "## Sentencing get for training data gen"
   ]
  },
  {
   "cell_type": "code",
   "execution_count": 308,
   "id": "ebdc2b6d",
   "metadata": {},
   "outputs": [],
   "source": [
    "raw_sentences = corpus_low.split('.')\n",
    "\n",
    "sentences = []\n",
    "for sentence in raw_sentences:\n",
    "    sentences.append(sentence.split())"
   ]
  },
  {
   "cell_type": "code",
   "execution_count": 309,
   "id": "63f83c15",
   "metadata": {},
   "outputs": [],
   "source": [
    "training_data = []\n",
    "for sentence in sentences:\n",
    "    for word_position, word in enumerate(sentence):\n",
    "        for considered_word in \\\n",
    "        sentence[max(word_position-WINDOW_SIZE,0) : min(word_position+WINDOW_SIZE,len(sentence)) + 1]:\n",
    "            if considered_word != word:\n",
    "                training_data.append( [clean_word(word),clean_word(considered_word)] )\n",
    "            "
   ]
  },
  {
   "cell_type": "code",
   "execution_count": 310,
   "id": "ce8970d2",
   "metadata": {},
   "outputs": [],
   "source": [
    "def to_one_hot(data_word_index, vocab_size):\n",
    "    vect = np.zeros(vocab_size)\n",
    "    vect[data_word_index] = 1\n",
    "    return vect"
   ]
  },
  {
   "cell_type": "code",
   "execution_count": 311,
   "id": "df0f53ce",
   "metadata": {},
   "outputs": [],
   "source": [
    "X_data, y_data = [], []"
   ]
  },
  {
   "cell_type": "code",
   "execution_count": 312,
   "id": "0cfe99ac",
   "metadata": {},
   "outputs": [],
   "source": [
    "for data_item in training_data:\n",
    "    X_data.append( to_one_hot(word2int[data_item[0]], vocab_size) )\n",
    "    y_data.append( to_one_hot(word2int[data_item[1]], vocab_size) )"
   ]
  },
  {
   "cell_type": "code",
   "execution_count": 313,
   "id": "8a5a8ae5",
   "metadata": {},
   "outputs": [],
   "source": [
    "X_data = np.asarray(X_data)\n",
    "y_data = np.asarray(y_data)"
   ]
  },
  {
   "cell_type": "code",
   "execution_count": 314,
   "id": "5ae3e3b8",
   "metadata": {},
   "outputs": [
    {
     "data": {
      "text/plain": [
       "(84,)"
      ]
     },
     "execution_count": 314,
     "metadata": {},
     "output_type": "execute_result"
    }
   ],
   "source": [
    "X_data[0].shape"
   ]
  },
  {
   "cell_type": "code",
   "execution_count": 315,
   "id": "466252b4",
   "metadata": {},
   "outputs": [
    {
     "data": {
      "text/plain": [
       "84"
      ]
     },
     "execution_count": 315,
     "metadata": {},
     "output_type": "execute_result"
    }
   ],
   "source": [
    "vocab_size"
   ]
  },
  {
   "cell_type": "markdown",
   "id": "e8fbbc0a",
   "metadata": {},
   "source": [
    "## Building the Model"
   ]
  },
  {
   "cell_type": "code",
   "execution_count": 316,
   "id": "bf51e628",
   "metadata": {},
   "outputs": [],
   "source": [
    "word2vec_full = Sequential()\n",
    "\n",
    "# this is the main layer we require\n",
    "word2vec_full.add(Dense(EMBEDDING_DIM, input_dim=vocab_size, activation='relu'))\n",
    "\n",
    "# this is the removeable layer\n",
    "word2vec_full.add(Dense(vocab_size, input_dim=EMBEDDING_DIM, activation='sigmoid')) "
   ]
  },
  {
   "cell_type": "code",
   "execution_count": 317,
   "id": "ac7c7e52",
   "metadata": {},
   "outputs": [],
   "source": [
    "word2vec_full.compile(loss='binary_crossentropy', optimizer='adam', metrics=['accuracy'])"
   ]
  },
  {
   "cell_type": "code",
   "execution_count": 318,
   "id": "705c5cc6",
   "metadata": {},
   "outputs": [
    {
     "data": {
      "text/plain": [
       "array([0., 0., 0., 0., 0., 0., 0., 0., 0., 0., 0., 0., 0., 0., 0., 0., 0.,\n",
       "       0., 0., 0., 0., 0., 0., 0., 0., 0., 0., 0., 0., 0., 0., 0., 0., 0.,\n",
       "       0., 0., 0., 0., 0., 0., 0., 0., 0., 1., 0., 0., 0., 0., 0., 0., 0.,\n",
       "       0., 0., 0., 0., 0., 0., 0., 0., 0., 0., 0., 0., 0., 0., 0., 0., 0.,\n",
       "       0., 0., 0., 0., 0., 0., 0., 0., 0., 0., 0., 0., 0., 0., 0., 0.])"
      ]
     },
     "execution_count": 318,
     "metadata": {},
     "output_type": "execute_result"
    }
   ],
   "source": [
    "X_data[1]"
   ]
  },
  {
   "cell_type": "code",
   "execution_count": 319,
   "id": "093f5cf6",
   "metadata": {},
   "outputs": [
    {
     "name": "stdout",
     "output_type": "stream",
     "text": [
      "Epoch 1/20\n",
      "32/32 [==============================] - 0s 375us/step - loss: 0.6819 - accuracy: 0.0109\n",
      "Epoch 2/20\n",
      "32/32 [==============================] - 0s 375us/step - loss: 0.6517 - accuracy: 0.0129\n",
      "Epoch 3/20\n",
      "32/32 [==============================] - 0s 375us/step - loss: 0.6075 - accuracy: 0.0129\n",
      "Epoch 4/20\n",
      "32/32 [==============================] - 0s 375us/step - loss: 0.5433 - accuracy: 0.0139\n",
      "Epoch 5/20\n",
      "32/32 [==============================] - 0s 500us/step - loss: 0.4606 - accuracy: 0.0139\n",
      "Epoch 6/20\n",
      "32/32 [==============================] - 0s 500us/step - loss: 0.3679 - accuracy: 0.0139\n",
      "Epoch 7/20\n",
      "32/32 [==============================] - 0s 500us/step - loss: 0.2809 - accuracy: 0.0109\n",
      "Epoch 8/20\n",
      "32/32 [==============================] - 0s 625us/step - loss: 0.2126 - accuracy: 0.0129\n",
      "Epoch 9/20\n",
      "32/32 [==============================] - 0s 500us/step - loss: 0.1647 - accuracy: 0.0129\n",
      "Epoch 10/20\n",
      "32/32 [==============================] - 0s 500us/step - loss: 0.1326 - accuracy: 0.0139\n",
      "Epoch 11/20\n",
      "32/32 [==============================] - 0s 500us/step - loss: 0.1115 - accuracy: 0.0318\n",
      "Epoch 12/20\n",
      "32/32 [==============================] - 0s 500us/step - loss: 0.0972 - accuracy: 0.1004\n",
      "Epoch 13/20\n",
      "32/32 [==============================] - 0s 500us/step - loss: 0.0875 - accuracy: 0.1143\n",
      "Epoch 14/20\n",
      "32/32 [==============================] - 0s 500us/step - loss: 0.0807 - accuracy: 0.1143\n",
      "Epoch 15/20\n",
      "32/32 [==============================] - 0s 500us/step - loss: 0.0759 - accuracy: 0.1143\n",
      "Epoch 16/20\n",
      "32/32 [==============================] - 0s 364us/step - loss: 0.0723 - accuracy: 0.1143\n",
      "Epoch 17/20\n",
      "32/32 [==============================] - 0s 375us/step - loss: 0.0697 - accuracy: 0.1143\n",
      "Epoch 18/20\n",
      "32/32 [==============================] - 0s 375us/step - loss: 0.0678 - accuracy: 0.1143\n",
      "Epoch 19/20\n",
      "32/32 [==============================] - 0s 375us/step - loss: 0.0663 - accuracy: 0.1143\n",
      "Epoch 20/20\n",
      "32/32 [==============================] - 0s 375us/step - loss: 0.0651 - accuracy: 0.1143\n"
     ]
    },
    {
     "data": {
      "text/plain": [
       "<tensorflow.python.keras.callbacks.History at 0x1684ddcb908>"
      ]
     },
     "execution_count": 319,
     "metadata": {},
     "output_type": "execute_result"
    }
   ],
   "source": [
    "word2vec_full.fit(X_data, y_data, epochs=20)"
   ]
  },
  {
   "cell_type": "code",
   "execution_count": 320,
   "id": "03e6d186",
   "metadata": {},
   "outputs": [],
   "source": [
    "n = word2vec_full.pop()"
   ]
  },
  {
   "cell_type": "code",
   "execution_count": 321,
   "id": "b9be165a",
   "metadata": {},
   "outputs": [
    {
     "name": "stdout",
     "output_type": "stream",
     "text": [
      "Model: \"sequential_5\"\n",
      "_________________________________________________________________\n",
      "Layer (type)                 Output Shape              Param #   \n",
      "=================================================================\n",
      "dense_10 (Dense)             (None, 10)                850       \n",
      "=================================================================\n",
      "Total params: 850\n",
      "Trainable params: 850\n",
      "Non-trainable params: 0\n",
      "_________________________________________________________________\n"
     ]
    }
   ],
   "source": [
    "word2vec_full.summary()"
   ]
  },
  {
   "cell_type": "markdown",
   "id": "bdf33017",
   "metadata": {},
   "source": [
    "## Building the embedding function"
   ]
  },
  {
   "cell_type": "code",
   "execution_count": 322,
   "id": "54d813b3",
   "metadata": {},
   "outputs": [],
   "source": [
    "def embed_word(word, vocab_size=vocab_size):\n",
    "    return word2vec_full.predict(np.asarray([to_one_hot(word2int[word], vocab_size),]))[0]"
   ]
  },
  {
   "cell_type": "code",
   "execution_count": 323,
   "id": "b1678562",
   "metadata": {},
   "outputs": [
    {
     "data": {
      "text/plain": [
       "array([1.1322192 , 0.7729502 , 1.029761  , 0.58355415, 0.8797009 ,\n",
       "       0.59177446, 0.83155787, 0.9597095 , 0.8869908 , 0.596187  ],\n",
       "      dtype=float32)"
      ]
     },
     "execution_count": 323,
     "metadata": {},
     "output_type": "execute_result"
    }
   ],
   "source": [
    "embed_word('king')"
   ]
  },
  {
   "cell_type": "code",
   "execution_count": 324,
   "id": "fc41511f",
   "metadata": {},
   "outputs": [
    {
     "data": {
      "text/plain": [
       "array([0.7740394 , 0.63698715, 1.0393512 , 0.80124885, 0.9750515 ,\n",
       "       0.68160576, 0.8081225 , 0.8289232 , 0.59306896, 0.65237796],\n",
       "      dtype=float32)"
      ]
     },
     "execution_count": 324,
     "metadata": {},
     "output_type": "execute_result"
    }
   ],
   "source": [
    "embed_word('queen')"
   ]
  },
  {
   "cell_type": "code",
   "execution_count": 325,
   "id": "098d40a8",
   "metadata": {},
   "outputs": [
    {
     "data": {
      "text/plain": [
       "array([0.9786841 , 0.74226093, 0.7655614 , 0.5236539 , 0.92473596,\n",
       "       0.762135  , 0.5328676 , 0.8943528 , 0.5752293 , 0.660254  ],\n",
       "      dtype=float32)"
      ]
     },
     "execution_count": 325,
     "metadata": {},
     "output_type": "execute_result"
    }
   ],
   "source": [
    "embed_word('man')"
   ]
  },
  {
   "cell_type": "code",
   "execution_count": 326,
   "id": "69e3bff1",
   "metadata": {},
   "outputs": [
    {
     "data": {
      "text/plain": [
       "array([0.786098  , 0.61664385, 0.8000004 , 0.9430488 , 0.8171786 ,\n",
       "       0.8962017 , 0.6125772 , 0.9324915 , 0.61085266, 0.8672253 ],\n",
       "      dtype=float32)"
      ]
     },
     "execution_count": 326,
     "metadata": {},
     "output_type": "execute_result"
    }
   ],
   "source": [
    "embed_word('person')"
   ]
  },
  {
   "cell_type": "code",
   "execution_count": null,
   "id": "0be835a1",
   "metadata": {},
   "outputs": [],
   "source": []
  },
  {
   "cell_type": "code",
   "execution_count": null,
   "id": "657d8671",
   "metadata": {},
   "outputs": [],
   "source": []
  },
  {
   "cell_type": "code",
   "execution_count": null,
   "id": "b0e16e05",
   "metadata": {},
   "outputs": [],
   "source": []
  },
  {
   "cell_type": "code",
   "execution_count": null,
   "id": "a7bf4a2e",
   "metadata": {},
   "outputs": [],
   "source": []
  },
  {
   "cell_type": "code",
   "execution_count": null,
   "id": "16270597",
   "metadata": {},
   "outputs": [],
   "source": []
  }
 ],
 "metadata": {
  "kernelspec": {
   "display_name": "Python 3",
   "language": "python",
   "name": "python3"
  },
  "language_info": {
   "codemirror_mode": {
    "name": "ipython",
    "version": 3
   },
   "file_extension": ".py",
   "mimetype": "text/x-python",
   "name": "python",
   "nbconvert_exporter": "python",
   "pygments_lexer": "ipython3",
   "version": "3.7.10"
  }
 },
 "nbformat": 4,
 "nbformat_minor": 5
}
